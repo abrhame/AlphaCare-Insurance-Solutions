{
 "cells": [
  {
   "cell_type": "code",
   "execution_count": 1,
   "metadata": {},
   "outputs": [],
   "source": [
    "import pandas as pd\n",
    "import seaborn as sns\n",
    "import matplotlib.pyplot as plt\n",
    "import scipy.stats as stats\n",
    "import numpy as np\n",
    "from statsmodels.stats.weightstats import ztest\n",
    "from scipy.stats import chi2_contingency"
   ]
  },
  {
   "cell_type": "code",
   "execution_count": 2,
   "metadata": {},
   "outputs": [
    {
     "name": "stderr",
     "output_type": "stream",
     "text": [
      "/tmp/ipykernel_7171/2311303730.py:1: DtypeWarning: Columns (32,37) have mixed types. Specify dtype option on import or set low_memory=False.\n",
      "  df = pd.read_csv('../MachineLearningRating_v3.txt',delimiter='|')\n"
     ]
    },
    {
     "name": "stdout",
     "output_type": "stream",
     "text": [
      "   UnderwrittenCoverID  PolicyID     TransactionMonth  IsVATRegistered  \\\n",
      "0               145249     12827  2015-03-01 00:00:00             True   \n",
      "1               145249     12827  2015-05-01 00:00:00             True   \n",
      "2               145249     12827  2015-07-01 00:00:00             True   \n",
      "3               145255     12827  2015-05-01 00:00:00             True   \n",
      "4               145255     12827  2015-07-01 00:00:00             True   \n",
      "5               145247     12827  2015-01-01 00:00:00             True   \n",
      "6               145247     12827  2015-04-01 00:00:00             True   \n",
      "7               145247     12827  2015-06-01 00:00:00             True   \n",
      "8               145247     12827  2015-08-01 00:00:00             True   \n",
      "9               145245     12827  2015-03-01 00:00:00             True   \n",
      "\n",
      "  Citizenship          LegalType Title Language                 Bank  \\\n",
      "0              Close Corporation    Mr  English  First National Bank   \n",
      "1              Close Corporation    Mr  English  First National Bank   \n",
      "2              Close Corporation    Mr  English  First National Bank   \n",
      "3              Close Corporation    Mr  English  First National Bank   \n",
      "4              Close Corporation    Mr  English  First National Bank   \n",
      "5              Close Corporation    Mr  English  First National Bank   \n",
      "6              Close Corporation    Mr  English  First National Bank   \n",
      "7              Close Corporation    Mr  English  First National Bank   \n",
      "8              Close Corporation    Mr  English  First National Bank   \n",
      "9              Close Corporation    Mr  English  First National Bank   \n",
      "\n",
      "       AccountType  ...                    ExcessSelected  \\\n",
      "0  Current account  ...             Mobility - Windscreen   \n",
      "1  Current account  ...             Mobility - Windscreen   \n",
      "2  Current account  ...             Mobility - Windscreen   \n",
      "3  Current account  ...  Mobility - Metered Taxis - R2000   \n",
      "4  Current account  ...  Mobility - Metered Taxis - R2000   \n",
      "5  Current account  ...                         No excess   \n",
      "6  Current account  ...                         No excess   \n",
      "7  Current account  ...                         No excess   \n",
      "8  Current account  ...                         No excess   \n",
      "9  Current account  ...                         No excess   \n",
      "\n",
      "         CoverCategory            CoverType            CoverGroup  \\\n",
      "0           Windscreen           Windscreen  Comprehensive - Taxi   \n",
      "1           Windscreen           Windscreen  Comprehensive - Taxi   \n",
      "2           Windscreen           Windscreen  Comprehensive - Taxi   \n",
      "3           Own damage           Own Damage  Comprehensive - Taxi   \n",
      "4           Own damage           Own Damage  Comprehensive - Taxi   \n",
      "5          Third Party          Third Party  Comprehensive - Taxi   \n",
      "6          Third Party          Third Party  Comprehensive - Taxi   \n",
      "7          Third Party          Third Party  Comprehensive - Taxi   \n",
      "8          Third Party          Third Party  Comprehensive - Taxi   \n",
      "9  Passenger Liability  Passenger Liability  Comprehensive - Taxi   \n",
      "\n",
      "               Section                          Product StatutoryClass  \\\n",
      "0  Motor Comprehensive  Mobility Metered Taxis: Monthly     Commercial   \n",
      "1  Motor Comprehensive  Mobility Metered Taxis: Monthly     Commercial   \n",
      "2  Motor Comprehensive  Mobility Metered Taxis: Monthly     Commercial   \n",
      "3  Motor Comprehensive  Mobility Metered Taxis: Monthly     Commercial   \n",
      "4  Motor Comprehensive  Mobility Metered Taxis: Monthly     Commercial   \n",
      "5  Motor Comprehensive  Mobility Metered Taxis: Monthly     Commercial   \n",
      "6  Motor Comprehensive  Mobility Metered Taxis: Monthly     Commercial   \n",
      "7  Motor Comprehensive  Mobility Metered Taxis: Monthly     Commercial   \n",
      "8  Motor Comprehensive  Mobility Metered Taxis: Monthly     Commercial   \n",
      "9  Motor Comprehensive  Mobility Metered Taxis: Monthly     Commercial   \n",
      "\n",
      "  StatutoryRiskType  TotalPremium TotalClaims  \n",
      "0     IFRS Constant     21.929825         0.0  \n",
      "1     IFRS Constant     21.929825         0.0  \n",
      "2     IFRS Constant      0.000000         0.0  \n",
      "3     IFRS Constant    512.848070         0.0  \n",
      "4     IFRS Constant      0.000000         0.0  \n",
      "5     IFRS Constant      3.256435         0.0  \n",
      "6     IFRS Constant     50.474737         0.0  \n",
      "7     IFRS Constant     35.332316         0.0  \n",
      "8     IFRS Constant      0.000000         0.0  \n",
      "9     IFRS Constant      1.009474         0.0  \n",
      "\n",
      "[10 rows x 52 columns]\n"
     ]
    }
   ],
   "source": [
    "df = pd.read_csv('../MachineLearningRating_v3.txt',delimiter='|')\n",
    "print(df.head(10))"
   ]
  },
  {
   "cell_type": "code",
   "execution_count": 3,
   "metadata": {},
   "outputs": [],
   "source": [
    "# Convert TotalPremium and TotalClaims to numeric\n",
    "df['TotalPremium'] = pd.to_numeric(df['TotalPremium'], errors='coerce')\n",
    "df['TotalClaims'] = pd.to_numeric(df['TotalClaims'], errors='coerce')"
   ]
  },
  {
   "cell_type": "code",
   "execution_count": 6,
   "metadata": {},
   "outputs": [],
   "source": [
    "# Define functions for statistical tests\n",
    "# Define the chi-squared test function\n",
    "def chi_squared_test(data, col1, col2):\n",
    "    contingency_table = pd.crosstab(data[col1], data[col2])\n",
    "    chi2, p, dof, expected = stats.chi2_contingency(contingency_table)\n",
    "    return chi2, p\n",
    "\n",
    "# Define the t-test function\n",
    "def t_test(data, group_col, value_col):\n",
    "    group_a = data[data[group_col] == data[group_col].unique()[0]][value_col]\n",
    "    group_b = data[data[group_col] == data[group_col].unique()[1]][value_col]\n",
    "    t_stat, p = stats.ttest_ind(group_a, group_b, nan_policy='omit')\n",
    "    return t_stat, p"
   ]
  },
  {
   "cell_type": "code",
   "execution_count": 8,
   "metadata": {},
   "outputs": [
    {
     "name": "stdout",
     "output_type": "stream",
     "text": [
      "Testing risk differences across provinces...\n",
      "Chi-squared test: chi2=10722.684705166641, p-value=1.0\n"
     ]
    }
   ],
   "source": [
    "# Null Hypothesis 1: There are no risk differences across provinces\n",
    "print(\"Testing risk differences across provinces...\")\n",
    "chi2, p = chi_squared_test(df, 'Province', 'TotalClaims')\n",
    "print(f\"Chi-squared test: chi2={chi2}, p-value={p}\")"
   ]
  },
  {
   "cell_type": "code",
   "execution_count": 10,
   "metadata": {},
   "outputs": [
    {
     "name": "stdout",
     "output_type": "stream",
     "text": [
      "Testing risk differences between zip codes...\n",
      "Chi-squared test: chi2=1214174.406374286, p-value=1.0\n"
     ]
    }
   ],
   "source": [
    "# Null Hypothesis 2: There are no risk differences between zip codes\n",
    "print(\"Testing risk differences between zip codes...\")\n",
    "chi2, p = chi_squared_test(df, 'PostalCode', 'TotalClaims')\n",
    "print(f\"Chi-squared test: chi2={chi2}, p-value={p}\")"
   ]
  },
  {
   "cell_type": "code",
   "execution_count": 11,
   "metadata": {},
   "outputs": [
    {
     "name": "stdout",
     "output_type": "stream",
     "text": [
      "Testing profit margin differences between zip codes...\n",
      "T-test: t_stat=-0.4863459356321961, p-value=0.6268739198863356\n"
     ]
    }
   ],
   "source": [
    "# Null Hypothesis 3: There are no significant margin (profit) differences between zip codes\n",
    "print(\"Testing profit margin differences between zip codes...\")\n",
    "df['ProfitMargin'] = df['TotalPremium'] - df['TotalClaims']\n",
    "t_stat, p = t_test(df, 'PostalCode', 'ProfitMargin')\n",
    "print(f\"T-test: t_stat={t_stat}, p-value={p}\")\n"
   ]
  },
  {
   "cell_type": "code",
   "execution_count": 12,
   "metadata": {},
   "outputs": [
    {
     "name": "stdout",
     "output_type": "stream",
     "text": [
      "Testing risk differences between Women and Men...\n",
      "Chi-squared test: chi2=2511.4776608232637, p-value=1.0\n"
     ]
    }
   ],
   "source": [
    "# Null Hypothesis 4: There are no significant risk differences between Women and Men\n",
    "print(\"Testing risk differences between Women and Men...\")\n",
    "chi2, p = chi_squared_test(df, 'Gender', 'TotalClaims')\n",
    "print(f\"Chi-squared test: chi2={chi2}, p-value={p}\")"
   ]
  },
  {
   "cell_type": "code",
   "execution_count": 13,
   "metadata": {},
   "outputs": [],
   "source": [
    "# Analyze and report results\n",
    "def analyze_results(p_value, alpha=0.05):\n",
    "    if p_value < alpha:\n",
    "        return \"Reject the null hypothesis\"\n",
    "    else:\n",
    "        return \"Fail to reject the null hypothesis\""
   ]
  },
  {
   "cell_type": "code",
   "execution_count": 14,
   "metadata": {},
   "outputs": [
    {
     "name": "stdout",
     "output_type": "stream",
     "text": [
      "Results:\n",
      "Risk differences across provinces: Fail to reject the null hypothesis\n",
      "Risk differences between zip codes: Fail to reject the null hypothesis\n",
      "Profit margin differences between zip codes: Fail to reject the null hypothesis\n",
      "Risk differences between Women and Men: Fail to reject the null hypothesis\n"
     ]
    }
   ],
   "source": [
    "# Analyzing and reporting\n",
    "print(\"Results:\")\n",
    "print(\"Risk differences across provinces:\", analyze_results(p))\n",
    "print(\"Risk differences between zip codes:\", analyze_results(p))\n",
    "print(\"Profit margin differences between zip codes:\", analyze_results(p))\n",
    "print(\"Risk differences between Women and Men:\", analyze_results(p))"
   ]
  }
 ],
 "metadata": {
  "kernelspec": {
   "display_name": "venv",
   "language": "python",
   "name": "python3"
  },
  "language_info": {
   "codemirror_mode": {
    "name": "ipython",
    "version": 3
   },
   "file_extension": ".py",
   "mimetype": "text/x-python",
   "name": "python",
   "nbconvert_exporter": "python",
   "pygments_lexer": "ipython3",
   "version": "3.11.4"
  }
 },
 "nbformat": 4,
 "nbformat_minor": 2
}
